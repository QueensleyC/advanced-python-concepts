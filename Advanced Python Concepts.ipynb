{
 "cells": [
  {
   "cell_type": "markdown",
   "metadata": {},
   "source": [
    "# Advanced Python Techniques Exploration\n",
    "\n",
    "I picked a project to apply and practice my [advanced python concept skills](https://www.geeksforgeeks.org/top-10-advance-python-concepts-that-you-must-know/), namely:\n",
    "\n",
    "- iterators\n",
    "- lambda functions\n",
    "- decorators\n",
    "- collections\n",
    "- list comprehensions\n",
    "- generators, etc\n",
    "\n",
    "![](advanced-python.png)"
   ]
  },
  {
   "cell_type": "markdown",
   "metadata": {},
   "source": [
    "## <span style=\"color:red\">This is a work-in-progress. It will be updated at regular intervals.</span>"
   ]
  },
  {
   "cell_type": "markdown",
   "metadata": {},
   "source": [
    "---"
   ]
  },
  {
   "cell_type": "markdown",
   "metadata": {},
   "source": [
    "## 1. Efficiently Loading Large Datasets in Python\n",
    "\n",
    "Iterators and generator functions offer powerful techniques for handling large datasets in Python. This section demonstrates how to leverage these approaches to load data in chunks or line by line, improving memory efficiency and performance.\n"
   ]
  },
  {
   "cell_type": "markdown",
   "metadata": {},
   "source": [
    "### a. Reading Data in Chunks with a Context Manager and Iterator\n",
    "\n",
    "Here, I read in the first 10000 rows and computed the frequency of diamond shapes.\n",
    "\n",
    "__Applied Concepts__: Context Managers, Iterators"
   ]
  },
  {
   "cell_type": "code",
   "execution_count": 14,
   "metadata": {},
   "outputs": [
    {
     "name": "stdout",
     "output_type": "stream",
     "text": [
      "{'Princess': 7401, 'Round': 2599}\n"
     ]
    }
   ],
   "source": [
    "# Open a connection to the file\n",
    "with open(\"diamonds2.csv\") as file:\n",
    "\n",
    "    # Skip the column names\n",
    "    file.readline()\n",
    "\n",
    "    # Initialize an empty dictionary: counts_dict\n",
    "    counts_dict = {}\n",
    "\n",
    "    # Process only the first 10000 rows\n",
    "    for j in range(10000):\n",
    "\n",
    "        # Split the current line into a list: line\n",
    "        line = file.readline().split(',')\n",
    "\n",
    "        # Get the value for the `shape` column: shape (the shape of the diamond)\n",
    "        shape = line[2]\n",
    "\n",
    "        # If the column value is in the dict, increment its value\n",
    "        if shape in counts_dict.keys():\n",
    "            counts_dict[shape] += 1\n",
    "\n",
    "        # Else, add to the dict and set value to 1\n",
    "        else:\n",
    "            counts_dict[shape] = 1\n",
    "\n",
    "# Print the resulting dictionary\n",
    "print(counts_dict)"
   ]
  },
  {
   "cell_type": "markdown",
   "metadata": {},
   "source": [
    "### b. Doing the same as above, but this time, use a user-defined generator to read the data\n",
    "__Applied Concepts__: Context Managers, Generators"
   ]
  },
  {
   "cell_type": "code",
   "execution_count": 15,
   "metadata": {},
   "outputs": [
    {
     "name": "stdout",
     "output_type": "stream",
     "text": [
      "{'shape': 1, 'Princess': 7695, 'Round': 152801, 'Pear': 7177, 'Marquise': 1768, 'Emerald': 13734, 'Oval': 12940, 'Heart': 1298, 'Cushion': 7340, 'Radiant': 2394, 'Asscher': 1233}\n"
     ]
    }
   ],
   "source": [
    "# Define read_large_file()\n",
    "def read_large_file(file_object):\n",
    "    \"\"\"A generator function to read a large file lazily.\"\"\"\n",
    "\n",
    "    # Loop indefinitely until the end of the file\n",
    "    while True:\n",
    "\n",
    "        # Read a line from the file: data\n",
    "        data = file_object.readline()\n",
    "\n",
    "        # Break if this is the end of the file\n",
    "        if not data:\n",
    "            break\n",
    "\n",
    "        # Yield the line of data\n",
    "        yield data\n",
    "        \n",
    "\n",
    "\n",
    "# Initialize an empty dictionary: counts_dict\n",
    "counts_dict = {}\n",
    "\n",
    "# Open a connection to the file\n",
    "with open(\"diamonds2.csv\") as file:\n",
    "\n",
    "    # Iterate over the generator from read_large_file()\n",
    "    for line in read_large_file(file):\n",
    "\n",
    "        row = line.split(',')\n",
    "        shape = row[2]\n",
    "\n",
    "        if shape in counts_dict.keys():\n",
    "            counts_dict[shape] += 1\n",
    "        else:\n",
    "            counts_dict[shape] = 1\n",
    "\n",
    "# Print            \n",
    "print(counts_dict)"
   ]
  },
  {
   "cell_type": "markdown",
   "metadata": {},
   "source": [
    "# 2. List Comprehension\n",
    "\n",
    " a. Given a paragraph as a string, write a function that return the number of character with odd frequencies. E.g The paragraph ``Hello world.`` has *8* characters with odd frequencies. i.e the entire frequency count is given as {'l': 3, 'o': 2, 'H': 1, 'e': 1, ' ': 1, 'w': 1, 'r': 1, 'd': 1, '.': 1} and there are *8* characters with odd frequences. So the function should return *10*. \n",
    "\n",
    "__Applied Concepts__: List comprehension, Collections"
   ]
  },
  {
   "cell_type": "code",
   "execution_count": 1,
   "metadata": {},
   "outputs": [
    {
     "name": "stdout",
     "output_type": "stream",
     "text": [
      "Counter({'l': 3, 'o': 2, 'H': 1, 'e': 1, ' ': 1, 'w': 1, 'r': 1, 'd': 1, '.': 1})\n"
     ]
    },
    {
     "data": {
      "text/plain": [
       "8"
      ]
     },
     "execution_count": 1,
     "metadata": {},
     "output_type": "execute_result"
    }
   ],
   "source": [
    "from collections import Counter\n",
    "\n",
    "def oddFrequencyCounter(theParagraph):\n",
    "\n",
    "    # Convert sentence to a list\n",
    "    sentence_list = list(theParagraph)\n",
    "\n",
    "    # Obtain the count of each element in the list\n",
    "    count = Counter(sentence_list)\n",
    "    print(count)\n",
    "\n",
    "    # Convert counter object `count` to a dictionary\n",
    "    counter = dict(count)\n",
    "\n",
    "    # Use list comprehension to count the number of characters with odd frequencies\n",
    "    odd_freq = len([i for i in counter.values() if i % 2 != 0])\n",
    "\n",
    "    # return number of characters with odd frequencies\n",
    "    return odd_freq\n",
    "\n",
    "oddFrequencyCounter(\"Hello world.\")\n"
   ]
  },
  {
   "cell_type": "markdown",
   "metadata": {},
   "source": [
    "# 3. Generator Tasks"
   ]
  },
  {
   "cell_type": "markdown",
   "metadata": {},
   "source": [
    "a. Write an infinite generator function `odd_squares_sum` that yields the square of odd numbers. e.g $1^2, 3^2, 5^2, ...$ up to a ``limit``"
   ]
  },
  {
   "cell_type": "code",
   "execution_count": 23,
   "metadata": {},
   "outputs": [],
   "source": [
    "def odd_squares_sum(limit):\n",
    "    current_value = 1\n",
    "    current_sum = 0\n",
    "    while current_value <= limit:\n",
    "        yield current_value**2\n",
    "        current_value += 2\n"
   ]
  },
  {
   "cell_type": "code",
   "execution_count": 25,
   "metadata": {},
   "outputs": [
    {
     "name": "stdout",
     "output_type": "stream",
     "text": [
      "1\n",
      "9\n",
      "25\n",
      "49\n",
      "81\n"
     ]
    }
   ],
   "source": [
    "for odd_num in odd_squares_sum(10):\n",
    "    print(odd_num)"
   ]
  },
  {
   "cell_type": "markdown",
   "metadata": {},
   "source": [
    "ai. Using the `odd_squares_sum` generator defined above, create a list of sum of squares up to a limit of $20$ and store the results in a numpy.array variable called `oddSumList` "
   ]
  },
  {
   "cell_type": "code",
   "execution_count": 29,
   "metadata": {},
   "outputs": [
    {
     "name": "stdout",
     "output_type": "stream",
     "text": [
      "[  1   9  25  49  81 121 169 225 289 361]\n"
     ]
    }
   ],
   "source": [
    "import numpy as np\n",
    "\n",
    "oddSumList = []\n",
    "\n",
    "# Iterate through the generator and append each sum to the list\n",
    "for sum_of_squares in odd_squares_sum(20):\n",
    "  oddSumList.append(sum_of_squares)\n",
    "\n",
    "# Convert the list to a numpy array\n",
    "oddSumList = np.array(oddSumList)\n",
    "\n",
    "# Print the resulting array\n",
    "print(oddSumList)"
   ]
  },
  {
   "cell_type": "markdown",
   "metadata": {},
   "source": [
    "aii. Compute the element-wise remainder of ``oddSumList`` when divided by $5$ and merge it with ``oddSumList``. The final output stored in the variable `mergedList` should be in the form of a list of tupples e.g ``[(1,1), (4,9), (0,25), ...]`` "
   ]
  },
  {
   "cell_type": "code",
   "execution_count": 31,
   "metadata": {},
   "outputs": [
    {
     "data": {
      "text/plain": [
       "[(1, 1),\n",
       " (4, 9),\n",
       " (0, 25),\n",
       " (4, 49),\n",
       " (1, 81),\n",
       " (1, 121),\n",
       " (4, 169),\n",
       " (0, 225),\n",
       " (4, 289),\n",
       " (1, 361)]"
      ]
     },
     "execution_count": 31,
     "metadata": {},
     "output_type": "execute_result"
    }
   ],
   "source": [
    "elt_wise_remainder = oddSumList % 5\n",
    "\n",
    "# Zip the lists together and convert to a list: mergedList\n",
    "mergedList = list(zip(elt_wise_remainder, oddSumList))\n",
    "mergedList"
   ]
  },
  {
   "cell_type": "markdown",
   "metadata": {},
   "source": [
    "# 4. Lambda Functions"
   ]
  },
  {
   "cell_type": "markdown",
   "metadata": {},
   "source": [
    "a. Write a function `get_3_nearest` that takes in a point of interest ``pt`` and a **list** of points ``ptlist``  and returns a list of 3 nearest points from the point of interest ``pt``. Assume the distance between any two point is defined by the `L1-norm`\n",
    "\n",
    "__Applied Concepts__: list comprehension, lambda functions"
   ]
  },
  {
   "cell_type": "code",
   "execution_count": 32,
   "metadata": {},
   "outputs": [],
   "source": [
    "def get_3_nearest(pt, ptlist):\n",
    "\n",
    "    dict_dist = {}\n",
    "\n",
    "    # Iterate through each point in the ptlist\n",
    "    for point in ptlist:\n",
    "        # Calculate the absolute distance between the current point and the reference point (pt)\n",
    "        abs_distance = np.abs(np.array(pt) - np.array(point)) \n",
    "        \n",
    "        # Calculate the total distance by summing up the absolute distances along all dimensions\n",
    "        total_distance = np.sum(abs_distance)\n",
    "        \n",
    "        # Store the total distance in the dictionary, where the key is the current point\n",
    "        # and the value is the total distance from the reference point (pt) to that point\n",
    "        dict_dist[point] = total_distance\n",
    "\n",
    "    \n",
    "    # Sort distances in ascending order based on values\n",
    "    sorted_distances = sorted(dict_dist.items(), key=lambda item: item[1])\n",
    "\n",
    "    # Extract the nearest 3 keys (points)\n",
    "    nearest_points = [key for key, _ in sorted_distances[:3]]\n",
    "\n",
    "    return nearest_points"
   ]
  },
  {
   "cell_type": "code",
   "execution_count": 33,
   "metadata": {},
   "outputs": [
    {
     "data": {
      "text/plain": [
       "[(5, 9), (2, 4), (13, 9)]"
      ]
     },
     "execution_count": 33,
     "metadata": {},
     "output_type": "execute_result"
    }
   ],
   "source": [
    "get_3_nearest((5, 8), [(5, 9), (9, 1), (2, 4), (13, 9), (10, 12)])"
   ]
  },
  {
   "cell_type": "code",
   "execution_count": 34,
   "metadata": {},
   "outputs": [
    {
     "data": {
      "text/plain": [
       "[(13, 9), (10, 12), (5, 9)]"
      ]
     },
     "execution_count": 34,
     "metadata": {},
     "output_type": "execute_result"
    }
   ],
   "source": [
    "get_3_nearest((12, 8), [(5, 9), (9, 1), (2, 4), (13, 9), (10, 12)])"
   ]
  },
  {
   "cell_type": "code",
   "execution_count": 35,
   "metadata": {},
   "outputs": [
    {
     "data": {
      "text/plain": [
       "[(7, 6), (8, 5), (9, 3)]"
      ]
     },
     "execution_count": 35,
     "metadata": {},
     "output_type": "execute_result"
    }
   ],
   "source": [
    "get_3_nearest((3, 8), [(9, 3), (8, 5), (7, 6)])"
   ]
  },
  {
   "cell_type": "code",
   "execution_count": null,
   "metadata": {},
   "outputs": [],
   "source": []
  },
  {
   "cell_type": "markdown",
   "metadata": {},
   "source": [
    "# 5. Decorator"
   ]
  },
  {
   "cell_type": "markdown",
   "metadata": {},
   "source": [
    "__a. Decorators Without Arguments__\n",
    "\n",
    "This section explores decorators that can be applied to functions without requiring any arguments themselves. I'll create a decorator that doubles the value of arguments passed to the decorated function."
   ]
  },
  {
   "cell_type": "code",
   "execution_count": 51,
   "metadata": {},
   "outputs": [],
   "source": [
    "# A decorator that doubles the value of the arguments passed to a function\n",
    "def double_args(func):\n",
    "\n",
    "    def wrapper(a, b):\n",
    "\n",
    "        return func(a*2, b*2)\n",
    "\n",
    "    return wrapper"
   ]
  },
  {
   "cell_type": "code",
   "execution_count": 68,
   "metadata": {},
   "outputs": [
    {
     "data": {
      "text/plain": [
       "20"
      ]
     },
     "execution_count": 68,
     "metadata": {},
     "output_type": "execute_result"
    }
   ],
   "source": [
    "@double_args\n",
    "def multipy(a,b):\n",
    "\n",
    "    \"\"\"\n",
    "        Compute the product of two numbers.\n",
    "    \"\"\"\n",
    "    return a*b\n",
    "\n",
    "# Call the function\n",
    "multipy(1,5)"
   ]
  },
  {
   "cell_type": "markdown",
   "metadata": {},
   "source": [
    "__b. Decorators that take arguments__\n",
    "\n",
    "This section explores decorators that can receive arguments during their definition. I'll build a decorator that measures the execution time of a decorated function and prints the result."
   ]
  },
  {
   "cell_type": "code",
   "execution_count": 60,
   "metadata": {},
   "outputs": [],
   "source": [
    "import time\n",
    "\n",
    "# This function decorates another function to measure the time it takes to execute and prints the result.\n",
    "def timer(*args, **kwargs):\n",
    "\n",
    "    def decorator(func):\n",
    "\n",
    "        def wrapper(*args, **kwargs):\n",
    "\n",
    "            start = time.time()\n",
    "            \n",
    "            result = func(*args, **kwargs)\n",
    "            \n",
    "            total_time = round(time.time() - start,10)\n",
    "\n",
    "            print(result)\n",
    "            \n",
    "            print(f\"It took {func.__name__} {total_time} seconds to run\")\n",
    "            \n",
    "        return wrapper\n",
    "\n",
    "    return decorator\n"
   ]
  },
  {
   "cell_type": "code",
   "execution_count": 61,
   "metadata": {},
   "outputs": [
    {
     "name": "stdout",
     "output_type": "stream",
     "text": [
      "36\n",
      "It took sum_nested_list 0.0 seconds to run\n"
     ]
    }
   ],
   "source": [
    "from functools import reduce\n",
    "\n",
    "# A function that takes in a 2-d list, flattens it and sums the elements of the flattened list\n",
    "\n",
    "@timer()\n",
    "def sum_nested_list(superlist):\n",
    "\n",
    "    flattend_list = [item for sublist in superlist for item in sublist]\n",
    "\n",
    "    sum = reduce(lambda a, b: a+b, flattend_list) \n",
    "\n",
    "    return sum\n",
    "\n",
    "sum_nested_list([[1,2],[3,4],[5,6,7,8]])"
   ]
  },
  {
   "cell_type": "code",
   "execution_count": 62,
   "metadata": {},
   "outputs": [],
   "source": [
    "@timer(n)\n",
    "def list_comprehension(n):\n",
    "    \n",
    "    \"\"\"Calculates the square of each number from 1 to n using list comprehension.\"\"\"\n",
    "    result = [x**2 for x in range(1, n+1)]\n",
    "    return None"
   ]
  },
  {
   "cell_type": "code",
   "execution_count": 63,
   "metadata": {},
   "outputs": [],
   "source": [
    "import numpy as np\n",
    "\n",
    "@timer(n)\n",
    "def numpy_array(n):\n",
    "    \"\"\"Calculates the square of each number from 1 to n using NumPy arrays.\"\"\"\n",
    "    \n",
    "    arr = np.arange(1, n+1)\n",
    "    result = arr**2"
   ]
  },
  {
   "cell_type": "code",
   "execution_count": 64,
   "metadata": {},
   "outputs": [
    {
     "name": "stdout",
     "output_type": "stream",
     "text": [
      "None\n",
      "It took list_comprehension 0.3999843597 seconds to run\n",
      "None\n",
      "It took numpy_array 0.0029919147 seconds to run\n"
     ]
    }
   ],
   "source": [
    "# Set the number of elements for comparison\n",
    "n = 500_000\n",
    "\n",
    "# Print execution time for list comprehension\n",
    "list_comprehension(n)\n",
    "\n",
    "# Print execution time for NumPy array\n",
    "numpy_array(n)"
   ]
  }
 ],
 "metadata": {
  "kernelspec": {
   "display_name": "Python 3 (ipykernel)",
   "language": "python",
   "name": "python3"
  },
  "language_info": {
   "codemirror_mode": {
    "name": "ipython",
    "version": 3
   },
   "file_extension": ".py",
   "mimetype": "text/x-python",
   "name": "python",
   "nbconvert_exporter": "python",
   "pygments_lexer": "ipython3",
   "version": "3.10.9"
  }
 },
 "nbformat": 4,
 "nbformat_minor": 2
}
